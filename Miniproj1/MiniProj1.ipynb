{
 "cells": [
  {
   "cell_type": "code",
   "execution_count": 178,
   "id": "62ce0192-685e-49d4-94a4-9481cb092c35",
   "metadata": {},
   "outputs": [],
   "source": [
    "import pandas as pd\n",
    "import numpy as np\n",
    "import matplotlib.pyplot as plt\n",
    "import seaborn as sns"
   ]
  },
  {
   "cell_type": "code",
   "execution_count": 167,
   "id": "e77b98ad-23d7-480e-b408-602ce3bea5f3",
   "metadata": {},
   "outputs": [],
   "source": [
    "json_data = \"https://raw.githubusercontent.com/CPHRasmusOlsson/datasets/refs/heads/main/iris.json\"\n",
    "df_json = pd.read_json(json_data)\n",
    "df_csv = pd.read_csv('https://raw.githubusercontent.com/TrainingByPackt/Data-Science-with-Python/refs/heads/master/Chapter01/Data/student.csv')\n",
    "df_xlsx = pd.read_excel('https://github.com/CPHRasmusOlsson/datasets/raw/refs/heads/main/Employee%20Sample%20Data.xlsx')"
   ]
  },
  {
   "cell_type": "markdown",
   "id": "d602e8ec-b3d1-4845-9753-4d103c5660c8",
   "metadata": {
    "jp-MarkdownHeadingCollapsed": true
   },
   "source": [
    "## Json dataset"
   ]
  },
  {
   "cell_type": "code",
   "execution_count": 101,
   "id": "fd7c2910-6121-4310-8d6a-95af7ffaf140",
   "metadata": {},
   "outputs": [
    {
     "data": {
      "text/html": [
       "<div>\n",
       "<style scoped>\n",
       "    .dataframe tbody tr th:only-of-type {\n",
       "        vertical-align: middle;\n",
       "    }\n",
       "\n",
       "    .dataframe tbody tr th {\n",
       "        vertical-align: top;\n",
       "    }\n",
       "\n",
       "    .dataframe thead th {\n",
       "        text-align: right;\n",
       "    }\n",
       "</style>\n",
       "<table border=\"1\" class=\"dataframe\">\n",
       "  <thead>\n",
       "    <tr style=\"text-align: right;\">\n",
       "      <th></th>\n",
       "      <th>sepalLength</th>\n",
       "      <th>sepalWidth</th>\n",
       "      <th>petalLength</th>\n",
       "      <th>petalWidth</th>\n",
       "      <th>species</th>\n",
       "    </tr>\n",
       "  </thead>\n",
       "  <tbody>\n",
       "    <tr>\n",
       "      <th>0</th>\n",
       "      <td>5.1</td>\n",
       "      <td>3.5</td>\n",
       "      <td>1.4</td>\n",
       "      <td>0.2</td>\n",
       "      <td>setosa</td>\n",
       "    </tr>\n",
       "    <tr>\n",
       "      <th>1</th>\n",
       "      <td>4.9</td>\n",
       "      <td>3.0</td>\n",
       "      <td>1.4</td>\n",
       "      <td>0.2</td>\n",
       "      <td>setosa</td>\n",
       "    </tr>\n",
       "    <tr>\n",
       "      <th>2</th>\n",
       "      <td>4.7</td>\n",
       "      <td>3.2</td>\n",
       "      <td>1.3</td>\n",
       "      <td>0.2</td>\n",
       "      <td>setosa</td>\n",
       "    </tr>\n",
       "    <tr>\n",
       "      <th>3</th>\n",
       "      <td>4.6</td>\n",
       "      <td>3.1</td>\n",
       "      <td>1.5</td>\n",
       "      <td>0.2</td>\n",
       "      <td>setosa</td>\n",
       "    </tr>\n",
       "    <tr>\n",
       "      <th>4</th>\n",
       "      <td>5.0</td>\n",
       "      <td>3.6</td>\n",
       "      <td>1.4</td>\n",
       "      <td>0.2</td>\n",
       "      <td>setosa</td>\n",
       "    </tr>\n",
       "  </tbody>\n",
       "</table>\n",
       "</div>"
      ],
      "text/plain": [
       "   sepalLength  sepalWidth  petalLength  petalWidth species\n",
       "0          5.1         3.5          1.4         0.2  setosa\n",
       "1          4.9         3.0          1.4         0.2  setosa\n",
       "2          4.7         3.2          1.3         0.2  setosa\n",
       "3          4.6         3.1          1.5         0.2  setosa\n",
       "4          5.0         3.6          1.4         0.2  setosa"
      ]
     },
     "execution_count": 101,
     "metadata": {},
     "output_type": "execute_result"
    }
   ],
   "source": [
    "df_json.head()"
   ]
  },
  {
   "cell_type": "code",
   "execution_count": 32,
   "id": "a645ffa9-ae47-40c2-bf88-02289a0b137b",
   "metadata": {},
   "outputs": [
    {
     "data": {
      "text/html": [
       "<div>\n",
       "<style scoped>\n",
       "    .dataframe tbody tr th:only-of-type {\n",
       "        vertical-align: middle;\n",
       "    }\n",
       "\n",
       "    .dataframe tbody tr th {\n",
       "        vertical-align: top;\n",
       "    }\n",
       "\n",
       "    .dataframe thead th {\n",
       "        text-align: right;\n",
       "    }\n",
       "</style>\n",
       "<table border=\"1\" class=\"dataframe\">\n",
       "  <thead>\n",
       "    <tr style=\"text-align: right;\">\n",
       "      <th></th>\n",
       "      <th>sepalLength</th>\n",
       "      <th>sepalWidth</th>\n",
       "      <th>petalLength</th>\n",
       "      <th>petalWidth</th>\n",
       "      <th>species</th>\n",
       "    </tr>\n",
       "  </thead>\n",
       "  <tbody>\n",
       "    <tr>\n",
       "      <th>145</th>\n",
       "      <td>6.7</td>\n",
       "      <td>3.0</td>\n",
       "      <td>5.2</td>\n",
       "      <td>2.3</td>\n",
       "      <td>virginica</td>\n",
       "    </tr>\n",
       "    <tr>\n",
       "      <th>146</th>\n",
       "      <td>6.3</td>\n",
       "      <td>2.5</td>\n",
       "      <td>5.0</td>\n",
       "      <td>1.9</td>\n",
       "      <td>virginica</td>\n",
       "    </tr>\n",
       "    <tr>\n",
       "      <th>147</th>\n",
       "      <td>6.5</td>\n",
       "      <td>3.0</td>\n",
       "      <td>5.2</td>\n",
       "      <td>2.0</td>\n",
       "      <td>virginica</td>\n",
       "    </tr>\n",
       "    <tr>\n",
       "      <th>148</th>\n",
       "      <td>6.2</td>\n",
       "      <td>3.4</td>\n",
       "      <td>5.4</td>\n",
       "      <td>2.3</td>\n",
       "      <td>virginica</td>\n",
       "    </tr>\n",
       "    <tr>\n",
       "      <th>149</th>\n",
       "      <td>5.9</td>\n",
       "      <td>3.0</td>\n",
       "      <td>5.1</td>\n",
       "      <td>1.8</td>\n",
       "      <td>virginica</td>\n",
       "    </tr>\n",
       "  </tbody>\n",
       "</table>\n",
       "</div>"
      ],
      "text/plain": [
       "     sepalLength  sepalWidth  petalLength  petalWidth    species\n",
       "145          6.7         3.0          5.2         2.3  virginica\n",
       "146          6.3         2.5          5.0         1.9  virginica\n",
       "147          6.5         3.0          5.2         2.0  virginica\n",
       "148          6.2         3.4          5.4         2.3  virginica\n",
       "149          5.9         3.0          5.1         1.8  virginica"
      ]
     },
     "execution_count": 32,
     "metadata": {},
     "output_type": "execute_result"
    }
   ],
   "source": [
    "df_json.tail()"
   ]
  },
  {
   "cell_type": "code",
   "execution_count": 38,
   "id": "9f58c4e9-7f66-4ce3-9c63-b83d0ba83351",
   "metadata": {},
   "outputs": [
    {
     "data": {
      "text/plain": [
       "sepalLength    0\n",
       "sepalWidth     0\n",
       "petalLength    0\n",
       "petalWidth     0\n",
       "species        0\n",
       "dtype: int64"
      ]
     },
     "execution_count": 38,
     "metadata": {},
     "output_type": "execute_result"
    }
   ],
   "source": [
    "df_json.isna().sum()"
   ]
  },
  {
   "cell_type": "code",
   "execution_count": 52,
   "id": "04104c72-9d16-477f-84ee-6ac67337a773",
   "metadata": {},
   "outputs": [
    {
     "data": {
      "text/plain": [
       "array(['setosa', 'versicolor', 'virginica'], dtype=object)"
      ]
     },
     "execution_count": 52,
     "metadata": {},
     "output_type": "execute_result"
    }
   ],
   "source": [
    "df_json['species'].unique()"
   ]
  },
  {
   "cell_type": "code",
   "execution_count": 54,
   "id": "e2f39391-c296-4d3b-86ad-5bdf628a7654",
   "metadata": {},
   "outputs": [
    {
     "data": {
      "text/html": [
       "<div>\n",
       "<style scoped>\n",
       "    .dataframe tbody tr th:only-of-type {\n",
       "        vertical-align: middle;\n",
       "    }\n",
       "\n",
       "    .dataframe tbody tr th {\n",
       "        vertical-align: top;\n",
       "    }\n",
       "\n",
       "    .dataframe thead th {\n",
       "        text-align: right;\n",
       "    }\n",
       "</style>\n",
       "<table border=\"1\" class=\"dataframe\">\n",
       "  <thead>\n",
       "    <tr style=\"text-align: right;\">\n",
       "      <th></th>\n",
       "      <th>sepalLength</th>\n",
       "      <th>sepalWidth</th>\n",
       "      <th>petalLength</th>\n",
       "      <th>petalWidth</th>\n",
       "    </tr>\n",
       "  </thead>\n",
       "  <tbody>\n",
       "    <tr>\n",
       "      <th>count</th>\n",
       "      <td>50.00000</td>\n",
       "      <td>50.000000</td>\n",
       "      <td>50.000000</td>\n",
       "      <td>50.00000</td>\n",
       "    </tr>\n",
       "    <tr>\n",
       "      <th>mean</th>\n",
       "      <td>6.58800</td>\n",
       "      <td>2.974000</td>\n",
       "      <td>5.552000</td>\n",
       "      <td>2.02600</td>\n",
       "    </tr>\n",
       "    <tr>\n",
       "      <th>std</th>\n",
       "      <td>0.63588</td>\n",
       "      <td>0.322497</td>\n",
       "      <td>0.551895</td>\n",
       "      <td>0.27465</td>\n",
       "    </tr>\n",
       "    <tr>\n",
       "      <th>min</th>\n",
       "      <td>4.90000</td>\n",
       "      <td>2.200000</td>\n",
       "      <td>4.500000</td>\n",
       "      <td>1.40000</td>\n",
       "    </tr>\n",
       "    <tr>\n",
       "      <th>25%</th>\n",
       "      <td>6.22500</td>\n",
       "      <td>2.800000</td>\n",
       "      <td>5.100000</td>\n",
       "      <td>1.80000</td>\n",
       "    </tr>\n",
       "    <tr>\n",
       "      <th>50%</th>\n",
       "      <td>6.50000</td>\n",
       "      <td>3.000000</td>\n",
       "      <td>5.550000</td>\n",
       "      <td>2.00000</td>\n",
       "    </tr>\n",
       "    <tr>\n",
       "      <th>75%</th>\n",
       "      <td>6.90000</td>\n",
       "      <td>3.175000</td>\n",
       "      <td>5.875000</td>\n",
       "      <td>2.30000</td>\n",
       "    </tr>\n",
       "    <tr>\n",
       "      <th>max</th>\n",
       "      <td>7.90000</td>\n",
       "      <td>3.800000</td>\n",
       "      <td>6.900000</td>\n",
       "      <td>2.50000</td>\n",
       "    </tr>\n",
       "  </tbody>\n",
       "</table>\n",
       "</div>"
      ],
      "text/plain": [
       "       sepalLength  sepalWidth  petalLength  petalWidth\n",
       "count     50.00000   50.000000    50.000000    50.00000\n",
       "mean       6.58800    2.974000     5.552000     2.02600\n",
       "std        0.63588    0.322497     0.551895     0.27465\n",
       "min        4.90000    2.200000     4.500000     1.40000\n",
       "25%        6.22500    2.800000     5.100000     1.80000\n",
       "50%        6.50000    3.000000     5.550000     2.00000\n",
       "75%        6.90000    3.175000     5.875000     2.30000\n",
       "max        7.90000    3.800000     6.900000     2.50000"
      ]
     },
     "execution_count": 54,
     "metadata": {},
     "output_type": "execute_result"
    }
   ],
   "source": [
    "df_json[df_json['species'] == 'virginica'].describe()"
   ]
  },
  {
   "cell_type": "code",
   "execution_count": 56,
   "id": "67b0a5f5-63a1-421a-9cf2-a02a258123f7",
   "metadata": {},
   "outputs": [
    {
     "data": {
      "text/html": [
       "<div>\n",
       "<style scoped>\n",
       "    .dataframe tbody tr th:only-of-type {\n",
       "        vertical-align: middle;\n",
       "    }\n",
       "\n",
       "    .dataframe tbody tr th {\n",
       "        vertical-align: top;\n",
       "    }\n",
       "\n",
       "    .dataframe thead th {\n",
       "        text-align: right;\n",
       "    }\n",
       "</style>\n",
       "<table border=\"1\" class=\"dataframe\">\n",
       "  <thead>\n",
       "    <tr style=\"text-align: right;\">\n",
       "      <th></th>\n",
       "      <th>sepalLength</th>\n",
       "      <th>sepalWidth</th>\n",
       "      <th>petalLength</th>\n",
       "      <th>petalWidth</th>\n",
       "    </tr>\n",
       "  </thead>\n",
       "  <tbody>\n",
       "    <tr>\n",
       "      <th>count</th>\n",
       "      <td>50.000000</td>\n",
       "      <td>50.000000</td>\n",
       "      <td>50.000000</td>\n",
       "      <td>50.000000</td>\n",
       "    </tr>\n",
       "    <tr>\n",
       "      <th>mean</th>\n",
       "      <td>5.936000</td>\n",
       "      <td>2.770000</td>\n",
       "      <td>4.260000</td>\n",
       "      <td>1.326000</td>\n",
       "    </tr>\n",
       "    <tr>\n",
       "      <th>std</th>\n",
       "      <td>0.516171</td>\n",
       "      <td>0.313798</td>\n",
       "      <td>0.469911</td>\n",
       "      <td>0.197753</td>\n",
       "    </tr>\n",
       "    <tr>\n",
       "      <th>min</th>\n",
       "      <td>4.900000</td>\n",
       "      <td>2.000000</td>\n",
       "      <td>3.000000</td>\n",
       "      <td>1.000000</td>\n",
       "    </tr>\n",
       "    <tr>\n",
       "      <th>25%</th>\n",
       "      <td>5.600000</td>\n",
       "      <td>2.525000</td>\n",
       "      <td>4.000000</td>\n",
       "      <td>1.200000</td>\n",
       "    </tr>\n",
       "    <tr>\n",
       "      <th>50%</th>\n",
       "      <td>5.900000</td>\n",
       "      <td>2.800000</td>\n",
       "      <td>4.350000</td>\n",
       "      <td>1.300000</td>\n",
       "    </tr>\n",
       "    <tr>\n",
       "      <th>75%</th>\n",
       "      <td>6.300000</td>\n",
       "      <td>3.000000</td>\n",
       "      <td>4.600000</td>\n",
       "      <td>1.500000</td>\n",
       "    </tr>\n",
       "    <tr>\n",
       "      <th>max</th>\n",
       "      <td>7.000000</td>\n",
       "      <td>3.400000</td>\n",
       "      <td>5.100000</td>\n",
       "      <td>1.800000</td>\n",
       "    </tr>\n",
       "  </tbody>\n",
       "</table>\n",
       "</div>"
      ],
      "text/plain": [
       "       sepalLength  sepalWidth  petalLength  petalWidth\n",
       "count    50.000000   50.000000    50.000000   50.000000\n",
       "mean      5.936000    2.770000     4.260000    1.326000\n",
       "std       0.516171    0.313798     0.469911    0.197753\n",
       "min       4.900000    2.000000     3.000000    1.000000\n",
       "25%       5.600000    2.525000     4.000000    1.200000\n",
       "50%       5.900000    2.800000     4.350000    1.300000\n",
       "75%       6.300000    3.000000     4.600000    1.500000\n",
       "max       7.000000    3.400000     5.100000    1.800000"
      ]
     },
     "execution_count": 56,
     "metadata": {},
     "output_type": "execute_result"
    }
   ],
   "source": [
    "df_json[df_json['species'] == 'versicolor'].describe()"
   ]
  },
  {
   "cell_type": "code",
   "execution_count": 58,
   "id": "4abcc2b9-8c59-49bf-9570-15643ebc27e8",
   "metadata": {},
   "outputs": [
    {
     "data": {
      "text/html": [
       "<div>\n",
       "<style scoped>\n",
       "    .dataframe tbody tr th:only-of-type {\n",
       "        vertical-align: middle;\n",
       "    }\n",
       "\n",
       "    .dataframe tbody tr th {\n",
       "        vertical-align: top;\n",
       "    }\n",
       "\n",
       "    .dataframe thead th {\n",
       "        text-align: right;\n",
       "    }\n",
       "</style>\n",
       "<table border=\"1\" class=\"dataframe\">\n",
       "  <thead>\n",
       "    <tr style=\"text-align: right;\">\n",
       "      <th></th>\n",
       "      <th>sepalLength</th>\n",
       "      <th>sepalWidth</th>\n",
       "      <th>petalLength</th>\n",
       "      <th>petalWidth</th>\n",
       "    </tr>\n",
       "  </thead>\n",
       "  <tbody>\n",
       "    <tr>\n",
       "      <th>count</th>\n",
       "      <td>50.00000</td>\n",
       "      <td>50.000000</td>\n",
       "      <td>50.000000</td>\n",
       "      <td>50.000000</td>\n",
       "    </tr>\n",
       "    <tr>\n",
       "      <th>mean</th>\n",
       "      <td>5.00600</td>\n",
       "      <td>3.428000</td>\n",
       "      <td>1.462000</td>\n",
       "      <td>0.246000</td>\n",
       "    </tr>\n",
       "    <tr>\n",
       "      <th>std</th>\n",
       "      <td>0.35249</td>\n",
       "      <td>0.379064</td>\n",
       "      <td>0.173664</td>\n",
       "      <td>0.105386</td>\n",
       "    </tr>\n",
       "    <tr>\n",
       "      <th>min</th>\n",
       "      <td>4.30000</td>\n",
       "      <td>2.300000</td>\n",
       "      <td>1.000000</td>\n",
       "      <td>0.100000</td>\n",
       "    </tr>\n",
       "    <tr>\n",
       "      <th>25%</th>\n",
       "      <td>4.80000</td>\n",
       "      <td>3.200000</td>\n",
       "      <td>1.400000</td>\n",
       "      <td>0.200000</td>\n",
       "    </tr>\n",
       "    <tr>\n",
       "      <th>50%</th>\n",
       "      <td>5.00000</td>\n",
       "      <td>3.400000</td>\n",
       "      <td>1.500000</td>\n",
       "      <td>0.200000</td>\n",
       "    </tr>\n",
       "    <tr>\n",
       "      <th>75%</th>\n",
       "      <td>5.20000</td>\n",
       "      <td>3.675000</td>\n",
       "      <td>1.575000</td>\n",
       "      <td>0.300000</td>\n",
       "    </tr>\n",
       "    <tr>\n",
       "      <th>max</th>\n",
       "      <td>5.80000</td>\n",
       "      <td>4.400000</td>\n",
       "      <td>1.900000</td>\n",
       "      <td>0.600000</td>\n",
       "    </tr>\n",
       "  </tbody>\n",
       "</table>\n",
       "</div>"
      ],
      "text/plain": [
       "       sepalLength  sepalWidth  petalLength  petalWidth\n",
       "count     50.00000   50.000000    50.000000   50.000000\n",
       "mean       5.00600    3.428000     1.462000    0.246000\n",
       "std        0.35249    0.379064     0.173664    0.105386\n",
       "min        4.30000    2.300000     1.000000    0.100000\n",
       "25%        4.80000    3.200000     1.400000    0.200000\n",
       "50%        5.00000    3.400000     1.500000    0.200000\n",
       "75%        5.20000    3.675000     1.575000    0.300000\n",
       "max        5.80000    4.400000     1.900000    0.600000"
      ]
     },
     "execution_count": 58,
     "metadata": {},
     "output_type": "execute_result"
    }
   ],
   "source": [
    "df_json[df_json['species'] == 'setosa'].describe()"
   ]
  },
  {
   "cell_type": "code",
   "execution_count": 169,
   "id": "20af1312-7b66-4072-aaa6-8a82555691f1",
   "metadata": {},
   "outputs": [
    {
     "data": {
      "text/plain": [
       "<Axes: xlabel='sepalLength'>"
      ]
     },
     "execution_count": 169,
     "metadata": {},
     "output_type": "execute_result"
    },
    {
     "data": {
      "image/png": "[encoded data removed]",
      "text/plain": [
       "<Figure size 640x480 with 1 Axes>"
      ]
     },
     "metadata": {},
     "output_type": "display_data"
    }
   ],
   "source": [
    "df_json['sepalLength'].value_counts().plot(kind='bar')"
   ]
  },
  {
   "cell_type": "code",
   "execution_count": 64,
   "id": "295d0d07-a0c8-4a82-a73a-5ad92b05a9e8",
   "metadata": {},
   "outputs": [
    {
     "data": {
      "text/plain": [
       "<Axes: >"
      ]
     },
     "execution_count": 64,
     "metadata": {},
     "output_type": "execute_result"
    },
    {
     "data": {
      "image/png": "[encoded data removed]",
      "text/plain": [
       "<Figure size 640x480 with 1 Axes>"
      ]
     },
     "metadata": {},
     "output_type": "display_data"
    }
   ],
   "source": [
    "df_json['sepalLength'].hist()"
   ]
  },
  {
   "cell_type": "code",
   "execution_count": 66,
   "id": "ff2fda6b-75f7-4f07-9b7c-06f9a468869a",
   "metadata": {},
   "outputs": [
    {
     "data": {
      "text/plain": [
       "<Axes: xlabel='sepalWidth'>"
      ]
     },
     "execution_count": 66,
     "metadata": {},
     "output_type": "execute_result"
    },
    {
     "data": {
      "image/png": "[encoded data removed]",
      "text/plain": [
       "<Figure size 640x480 with 1 Axes>"
      ]
     },
     "metadata": {},
     "output_type": "display_data"
    }
   ],
   "source": [
    "df_json['sepalWidth'].value_counts().plot(kind='bar')"
   ]
  },
  {
   "cell_type": "code",
   "execution_count": 68,
   "id": "1ec1cdbd-1b96-41f6-a41d-d6cca8b58ea9",
   "metadata": {},
   "outputs": [
    {
     "data": {
      "text/plain": [
       "<Axes: >"
      ]
     },
     "execution_count": 68,
     "metadata": {},
     "output_type": "execute_result"
    },
    {
     "data": {
      "image/png": "[encoded data removed]",
      "text/plain": [
       "<Figure size 640x480 with 1 Axes>"
      ]
     },
     "metadata": {},
     "output_type": "display_data"
    }
   ],
   "source": [
    "df_json['sepalWidth'].hist()"
   ]
  },
  {
   "cell_type": "code",
   "execution_count": 70,
   "id": "c8d3d541-2503-45a8-b2dc-0cc8356f1fa3",
   "metadata": {},
   "outputs": [
    {
     "data": {
      "text/plain": [
       "<Axes: xlabel='petalLength'>"
      ]
     },
     "execution_count": 70,
     "metadata": {},
     "output_type": "execute_result"
    },
    {
     "data": {
      "image/png": "[encoded data removed]",
      "text/plain": [
       "<Figure size 640x480 with 1 Axes>"
      ]
     },
     "metadata": {},
     "output_type": "display_data"
    }
   ],
   "source": [
    "df_json['petalLength'].value_counts().plot(kind='bar')"
   ]
  },
  {
   "cell_type": "code",
   "execution_count": 72,
   "id": "16fd917f-81c9-4895-a425-eff984f86316",
   "metadata": {},
   "outputs": [
    {
     "data": {
      "text/plain": [
       "<Axes: >"
      ]
     },
     "execution_count": 72,
     "metadata": {},
     "output_type": "execute_result"
    },
    {
     "data": {
      "image/png": "[encoded data removed]",
      "text/plain": [
       "<Figure size 640x480 with 1 Axes>"
      ]
     },
     "metadata": {},
     "output_type": "display_data"
    }
   ],
   "source": [
    "df_json['petalLength'].hist()"
   ]
  },
  {
   "cell_type": "code",
   "execution_count": 76,
   "id": "e6110c47-80a4-487d-921f-aee476d95e3f",
   "metadata": {},
   "outputs": [
    {
     "data": {
      "text/plain": [
       "<Axes: xlabel='petalWidth'>"
      ]
     },
     "execution_count": 76,
     "metadata": {},
     "output_type": "execute_result"
    },
    {
     "data": {
      "image/png": "[encoded data removed]",
      "text/plain": [
       "<Figure size 640x480 with 1 Axes>"
      ]
     },
     "metadata": {},
     "output_type": "display_data"
    }
   ],
   "source": [
    "df_json['petalWidth'].value_counts().plot(kind='bar')"
   ]
  },
  {
   "cell_type": "code",
   "execution_count": 80,
   "id": "cbe00aea-216f-463d-9e8d-d1843ea99fc0",
   "metadata": {},
   "outputs": [
    {
     "data": {
      "text/plain": [
       "<Axes: >"
      ]
     },
     "execution_count": 80,
     "metadata": {},
     "output_type": "execute_result"
    },
    {
     "data": {
      "image/png": "[encoded data removed]",
      "text/plain": [
       "<Figure size 640x480 with 1 Axes>"
      ]
     },
     "metadata": {},
     "output_type": "display_data"
    }
   ],
   "source": [
    "df_json['petalWidth'].hist()"
   ]
  },
  {
   "cell_type": "markdown",
   "id": "fb0cd9a3-fdd5-4372-927a-badf80ca2ccb",
   "metadata": {
    "jp-MarkdownHeadingCollapsed": true
   },
   "source": [
    "## CSV dataset"
   ]
  },
  {
   "cell_type": "code",
   "execution_count": 104,
   "id": "7f5477a7-6877-427a-8d67-6da20de7afa5",
   "metadata": {},
   "outputs": [],
   "source": [
    "df_csv = df_csv.drop('Student_id',axis=1)"
   ]
  },
  {
   "cell_type": "code",
   "execution_count": 106,
   "id": "0c694b61-2bc9-4949-8412-2fe5b11c6575",
   "metadata": {},
   "outputs": [
    {
     "data": {
      "text/html": [
       "<div>\n",
       "<style scoped>\n",
       "    .dataframe tbody tr th:only-of-type {\n",
       "        vertical-align: middle;\n",
       "    }\n",
       "\n",
       "    .dataframe tbody tr th {\n",
       "        vertical-align: top;\n",
       "    }\n",
       "\n",
       "    .dataframe thead th {\n",
       "        text-align: right;\n",
       "    }\n",
       "</style>\n",
       "<table border=\"1\" class=\"dataframe\">\n",
       "  <thead>\n",
       "    <tr style=\"text-align: right;\">\n",
       "      <th></th>\n",
       "      <th>Age</th>\n",
       "      <th>Gender</th>\n",
       "      <th>Grade</th>\n",
       "      <th>Employed</th>\n",
       "    </tr>\n",
       "  </thead>\n",
       "  <tbody>\n",
       "    <tr>\n",
       "      <th>0</th>\n",
       "      <td>19</td>\n",
       "      <td>Male</td>\n",
       "      <td>1st Class</td>\n",
       "      <td>yes</td>\n",
       "    </tr>\n",
       "    <tr>\n",
       "      <th>1</th>\n",
       "      <td>20</td>\n",
       "      <td>Female</td>\n",
       "      <td>2nd Class</td>\n",
       "      <td>no</td>\n",
       "    </tr>\n",
       "    <tr>\n",
       "      <th>2</th>\n",
       "      <td>18</td>\n",
       "      <td>Male</td>\n",
       "      <td>1st Class</td>\n",
       "      <td>no</td>\n",
       "    </tr>\n",
       "    <tr>\n",
       "      <th>3</th>\n",
       "      <td>21</td>\n",
       "      <td>Female</td>\n",
       "      <td>2nd Class</td>\n",
       "      <td>no</td>\n",
       "    </tr>\n",
       "    <tr>\n",
       "      <th>4</th>\n",
       "      <td>19</td>\n",
       "      <td>Male</td>\n",
       "      <td>1st Class</td>\n",
       "      <td>no</td>\n",
       "    </tr>\n",
       "  </tbody>\n",
       "</table>\n",
       "</div>"
      ],
      "text/plain": [
       "   Age  Gender      Grade Employed\n",
       "0   19    Male  1st Class      yes\n",
       "1   20  Female  2nd Class       no\n",
       "2   18    Male  1st Class       no\n",
       "3   21  Female  2nd Class       no\n",
       "4   19    Male  1st Class       no"
      ]
     },
     "execution_count": 106,
     "metadata": {},
     "output_type": "execute_result"
    }
   ],
   "source": [
    "df_csv.head()"
   ]
  },
  {
   "cell_type": "code",
   "execution_count": 108,
   "id": "dd897da7-97fc-408e-8cb5-0e891c521ac1",
   "metadata": {},
   "outputs": [
    {
     "data": {
      "text/html": [
       "<div>\n",
       "<style scoped>\n",
       "    .dataframe tbody tr th:only-of-type {\n",
       "        vertical-align: middle;\n",
       "    }\n",
       "\n",
       "    .dataframe tbody tr th {\n",
       "        vertical-align: top;\n",
       "    }\n",
       "\n",
       "    .dataframe thead th {\n",
       "        text-align: right;\n",
       "    }\n",
       "</style>\n",
       "<table border=\"1\" class=\"dataframe\">\n",
       "  <thead>\n",
       "    <tr style=\"text-align: right;\">\n",
       "      <th></th>\n",
       "      <th>Age</th>\n",
       "      <th>Gender</th>\n",
       "      <th>Grade</th>\n",
       "      <th>Employed</th>\n",
       "    </tr>\n",
       "  </thead>\n",
       "  <tbody>\n",
       "    <tr>\n",
       "      <th>227</th>\n",
       "      <td>21</td>\n",
       "      <td>Female</td>\n",
       "      <td>1st Class</td>\n",
       "      <td>no</td>\n",
       "    </tr>\n",
       "    <tr>\n",
       "      <th>228</th>\n",
       "      <td>20</td>\n",
       "      <td>Male</td>\n",
       "      <td>2nd Class</td>\n",
       "      <td>no</td>\n",
       "    </tr>\n",
       "    <tr>\n",
       "      <th>229</th>\n",
       "      <td>20</td>\n",
       "      <td>Male</td>\n",
       "      <td>3rd Class</td>\n",
       "      <td>yes</td>\n",
       "    </tr>\n",
       "    <tr>\n",
       "      <th>230</th>\n",
       "      <td>19</td>\n",
       "      <td>Female</td>\n",
       "      <td>1st Class</td>\n",
       "      <td>yes</td>\n",
       "    </tr>\n",
       "    <tr>\n",
       "      <th>231</th>\n",
       "      <td>20</td>\n",
       "      <td>Male</td>\n",
       "      <td>3rd Class</td>\n",
       "      <td>yes</td>\n",
       "    </tr>\n",
       "  </tbody>\n",
       "</table>\n",
       "</div>"
      ],
      "text/plain": [
       "     Age  Gender      Grade Employed\n",
       "227   21  Female  1st Class       no\n",
       "228   20    Male  2nd Class       no\n",
       "229   20    Male  3rd Class      yes\n",
       "230   19  Female  1st Class      yes\n",
       "231   20    Male  3rd Class      yes"
      ]
     },
     "execution_count": 108,
     "metadata": {},
     "output_type": "execute_result"
    }
   ],
   "source": [
    "df_csv.tail()"
   ]
  },
  {
   "cell_type": "code",
   "execution_count": 110,
   "id": "05815536-c49e-44d3-aaef-cd53ee47c2b6",
   "metadata": {},
   "outputs": [
    {
     "data": {
      "text/html": [
       "<div>\n",
       "<style scoped>\n",
       "    .dataframe tbody tr th:only-of-type {\n",
       "        vertical-align: middle;\n",
       "    }\n",
       "\n",
       "    .dataframe tbody tr th {\n",
       "        vertical-align: top;\n",
       "    }\n",
       "\n",
       "    .dataframe thead th {\n",
       "        text-align: right;\n",
       "    }\n",
       "</style>\n",
       "<table border=\"1\" class=\"dataframe\">\n",
       "  <thead>\n",
       "    <tr style=\"text-align: right;\">\n",
       "      <th></th>\n",
       "      <th>Age</th>\n",
       "    </tr>\n",
       "  </thead>\n",
       "  <tbody>\n",
       "    <tr>\n",
       "      <th>count</th>\n",
       "      <td>232.000000</td>\n",
       "    </tr>\n",
       "    <tr>\n",
       "      <th>mean</th>\n",
       "      <td>19.896552</td>\n",
       "    </tr>\n",
       "    <tr>\n",
       "      <th>std</th>\n",
       "      <td>1.030944</td>\n",
       "    </tr>\n",
       "    <tr>\n",
       "      <th>min</th>\n",
       "      <td>18.000000</td>\n",
       "    </tr>\n",
       "    <tr>\n",
       "      <th>25%</th>\n",
       "      <td>19.000000</td>\n",
       "    </tr>\n",
       "    <tr>\n",
       "      <th>50%</th>\n",
       "      <td>20.000000</td>\n",
       "    </tr>\n",
       "    <tr>\n",
       "      <th>75%</th>\n",
       "      <td>21.000000</td>\n",
       "    </tr>\n",
       "    <tr>\n",
       "      <th>max</th>\n",
       "      <td>22.000000</td>\n",
       "    </tr>\n",
       "  </tbody>\n",
       "</table>\n",
       "</div>"
      ],
      "text/plain": [
       "              Age\n",
       "count  232.000000\n",
       "mean    19.896552\n",
       "std      1.030944\n",
       "min     18.000000\n",
       "25%     19.000000\n",
       "50%     20.000000\n",
       "75%     21.000000\n",
       "max     22.000000"
      ]
     },
     "execution_count": 110,
     "metadata": {},
     "output_type": "execute_result"
    }
   ],
   "source": [
    "df_csv.describe()"
   ]
  },
  {
   "cell_type": "code",
   "execution_count": 120,
   "id": "3f8b94f3-4956-458f-9b65-20ce63bf09de",
   "metadata": {},
   "outputs": [
    {
     "data": {
      "text/plain": [
       "<Axes: xlabel='Age'>"
      ]
     },
     "execution_count": 120,
     "metadata": {},
     "output_type": "execute_result"
    },
    {
     "data": {
      "image/png": "[encoded data removed]",
      "text/plain": [
       "<Figure size 640x480 with 1 Axes>"
      ]
     },
     "metadata": {},
     "output_type": "display_data"
    }
   ],
   "source": [
    "df_csv['Age'].value_counts().plot(kind='bar')"
   ]
  },
  {
   "cell_type": "code",
   "execution_count": 122,
   "id": "d559ff8c-b0d4-4dbb-bcc4-38f867b76b84",
   "metadata": {},
   "outputs": [
    {
     "data": {
      "text/plain": [
       "<Axes: xlabel='Gender'>"
      ]
     },
     "execution_count": 122,
     "metadata": {},
     "output_type": "execute_result"
    },
    {
     "data": {
      "image/png": "[encoded data removed]",
      "text/plain": [
       "<Figure size 640x480 with 1 Axes>"
      ]
     },
     "metadata": {},
     "output_type": "display_data"
    }
   ],
   "source": [
    "df_csv['Gender'].value_counts().plot(kind='bar')"
   ]
  },
  {
   "cell_type": "code",
   "execution_count": 124,
   "id": "a355eedc-b90e-436f-9095-87d9785e349e",
   "metadata": {},
   "outputs": [
    {
     "data": {
      "text/plain": [
       "<Axes: xlabel='Grade'>"
      ]
     },
     "execution_count": 124,
     "metadata": {},
     "output_type": "execute_result"
    },
    {
     "data": {
      "image/png": "[encoded data removed]",
      "text/plain": [
       "<Figure size 640x480 with 1 Axes>"
      ]
     },
     "metadata": {},
     "output_type": "display_data"
    }
   ],
   "source": [
    "df_csv['Grade'].value_counts().plot(kind='bar')"
   ]
  },
  {
   "cell_type": "markdown",
   "id": "4016ebf0-929b-4d3d-ab85-cd07991aa0ef",
   "metadata": {
    "jp-MarkdownHeadingCollapsed": true
   },
   "source": [
    "## Excel Dataset"
   ]
  },
  {
   "cell_type": "code",
   "execution_count": 127,
   "id": "8bba730f-7f6b-4d3a-bfbb-ddc5b96f767d",
   "metadata": {},
   "outputs": [
    {
     "data": {
      "text/html": [
       "<div>\n",
       "<style scoped>\n",
       "    .dataframe tbody tr th:only-of-type {\n",
       "        vertical-align: middle;\n",
       "    }\n",
       "\n",
       "    .dataframe tbody tr th {\n",
       "        vertical-align: top;\n",
       "    }\n",
       "\n",
       "    .dataframe thead th {\n",
       "        text-align: right;\n",
       "    }\n",
       "</style>\n",
       "<table border=\"1\" class=\"dataframe\">\n",
       "  <thead>\n",
       "    <tr style=\"text-align: right;\">\n",
       "      <th></th>\n",
       "      <th>EEID</th>\n",
       "      <th>Full Name</th>\n",
       "      <th>Job Title</th>\n",
       "      <th>Department</th>\n",
       "      <th>Business Unit</th>\n",
       "      <th>Gender</th>\n",
       "      <th>Ethnicity</th>\n",
       "      <th>Age</th>\n",
       "      <th>Hire Date</th>\n",
       "      <th>Annual Salary</th>\n",
       "      <th>Bonus %</th>\n",
       "      <th>Country</th>\n",
       "      <th>City</th>\n",
       "      <th>Exit Date</th>\n",
       "    </tr>\n",
       "  </thead>\n",
       "  <tbody>\n",
       "    <tr>\n",
       "      <th>0</th>\n",
       "      <td>E02387</td>\n",
       "      <td>Emily Davis</td>\n",
       "      <td>Sr. Manger</td>\n",
       "      <td>IT</td>\n",
       "      <td>Research &amp; Development</td>\n",
       "      <td>Female</td>\n",
       "      <td>Black</td>\n",
       "      <td>55</td>\n",
       "      <td>2016-04-08</td>\n",
       "      <td>141604</td>\n",
       "      <td>0.15</td>\n",
       "      <td>United States</td>\n",
       "      <td>Seattle</td>\n",
       "      <td>2021-10-16</td>\n",
       "    </tr>\n",
       "    <tr>\n",
       "      <th>1</th>\n",
       "      <td>E04105</td>\n",
       "      <td>Theodore Dinh</td>\n",
       "      <td>Technical Architect</td>\n",
       "      <td>IT</td>\n",
       "      <td>Manufacturing</td>\n",
       "      <td>Male</td>\n",
       "      <td>Asian</td>\n",
       "      <td>59</td>\n",
       "      <td>1997-11-29</td>\n",
       "      <td>99975</td>\n",
       "      <td>0.00</td>\n",
       "      <td>China</td>\n",
       "      <td>Chongqing</td>\n",
       "      <td>NaT</td>\n",
       "    </tr>\n",
       "    <tr>\n",
       "      <th>2</th>\n",
       "      <td>E02572</td>\n",
       "      <td>Luna Sanders</td>\n",
       "      <td>Director</td>\n",
       "      <td>Finance</td>\n",
       "      <td>Speciality Products</td>\n",
       "      <td>Female</td>\n",
       "      <td>Caucasian</td>\n",
       "      <td>50</td>\n",
       "      <td>2006-10-26</td>\n",
       "      <td>163099</td>\n",
       "      <td>0.20</td>\n",
       "      <td>United States</td>\n",
       "      <td>Chicago</td>\n",
       "      <td>NaT</td>\n",
       "    </tr>\n",
       "    <tr>\n",
       "      <th>3</th>\n",
       "      <td>E02832</td>\n",
       "      <td>Penelope Jordan</td>\n",
       "      <td>Computer Systems Manager</td>\n",
       "      <td>IT</td>\n",
       "      <td>Manufacturing</td>\n",
       "      <td>Female</td>\n",
       "      <td>Caucasian</td>\n",
       "      <td>26</td>\n",
       "      <td>2019-09-27</td>\n",
       "      <td>84913</td>\n",
       "      <td>0.07</td>\n",
       "      <td>United States</td>\n",
       "      <td>Chicago</td>\n",
       "      <td>NaT</td>\n",
       "    </tr>\n",
       "    <tr>\n",
       "      <th>4</th>\n",
       "      <td>E01639</td>\n",
       "      <td>Austin Vo</td>\n",
       "      <td>Sr. Analyst</td>\n",
       "      <td>Finance</td>\n",
       "      <td>Manufacturing</td>\n",
       "      <td>Male</td>\n",
       "      <td>Asian</td>\n",
       "      <td>55</td>\n",
       "      <td>1995-11-20</td>\n",
       "      <td>95409</td>\n",
       "      <td>0.00</td>\n",
       "      <td>United States</td>\n",
       "      <td>Phoenix</td>\n",
       "      <td>NaT</td>\n",
       "    </tr>\n",
       "  </tbody>\n",
       "</table>\n",
       "</div>"
      ],
      "text/plain": [
       "     EEID        Full Name                 Job Title Department  \\\n",
       "0  E02387      Emily Davis                Sr. Manger         IT   \n",
       "1  E04105    Theodore Dinh       Technical Architect         IT   \n",
       "2  E02572     Luna Sanders                  Director    Finance   \n",
       "3  E02832  Penelope Jordan  Computer Systems Manager         IT   \n",
       "4  E01639        Austin Vo               Sr. Analyst    Finance   \n",
       "\n",
       "            Business Unit  Gender  Ethnicity  Age  Hire Date  Annual Salary  \\\n",
       "0  Research & Development  Female      Black   55 2016-04-08         141604   \n",
       "1           Manufacturing    Male      Asian   59 1997-11-29          99975   \n",
       "2     Speciality Products  Female  Caucasian   50 2006-10-26         163099   \n",
       "3           Manufacturing  Female  Caucasian   26 2019-09-27          84913   \n",
       "4           Manufacturing    Male      Asian   55 1995-11-20          95409   \n",
       "\n",
       "   Bonus %        Country       City  Exit Date  \n",
       "0     0.15  United States    Seattle 2021-10-16  \n",
       "1     0.00          China  Chongqing        NaT  \n",
       "2     0.20  United States    Chicago        NaT  \n",
       "3     0.07  United States    Chicago        NaT  \n",
       "4     0.00  United States    Phoenix        NaT  "
      ]
     },
     "execution_count": 127,
     "metadata": {},
     "output_type": "execute_result"
    }
   ],
   "source": [
    "df_xlsx.head()"
   ]
  },
  {
   "cell_type": "code",
   "execution_count": 139,
   "id": "81885b4a-a5ba-4d7c-9497-ce1be5e60a65",
   "metadata": {},
   "outputs": [],
   "source": [
    "df_xlsx = df_xlsx.drop(['EEID','Full Name','Hire Date','City','Exit Date'],axis=1)"
   ]
  },
  {
   "cell_type": "code",
   "execution_count": 145,
   "id": "0d19e4fe-7c7d-4c62-b48d-5d65322c5218",
   "metadata": {},
   "outputs": [
    {
     "data": {
      "text/html": [
       "<div>\n",
       "<style scoped>\n",
       "    .dataframe tbody tr th:only-of-type {\n",
       "        vertical-align: middle;\n",
       "    }\n",
       "\n",
       "    .dataframe tbody tr th {\n",
       "        vertical-align: top;\n",
       "    }\n",
       "\n",
       "    .dataframe thead th {\n",
       "        text-align: right;\n",
       "    }\n",
       "</style>\n",
       "<table border=\"1\" class=\"dataframe\">\n",
       "  <thead>\n",
       "    <tr style=\"text-align: right;\">\n",
       "      <th></th>\n",
       "      <th>Job Title</th>\n",
       "      <th>Department</th>\n",
       "      <th>Business Unit</th>\n",
       "      <th>Gender</th>\n",
       "      <th>Ethnicity</th>\n",
       "      <th>Age</th>\n",
       "      <th>Annual Salary</th>\n",
       "      <th>Bonus %</th>\n",
       "      <th>Country</th>\n",
       "    </tr>\n",
       "  </thead>\n",
       "  <tbody>\n",
       "    <tr>\n",
       "      <th>0</th>\n",
       "      <td>Sr. Manger</td>\n",
       "      <td>IT</td>\n",
       "      <td>Research &amp; Development</td>\n",
       "      <td>Female</td>\n",
       "      <td>Black</td>\n",
       "      <td>55</td>\n",
       "      <td>141604</td>\n",
       "      <td>0.15</td>\n",
       "      <td>United States</td>\n",
       "    </tr>\n",
       "    <tr>\n",
       "      <th>1</th>\n",
       "      <td>Technical Architect</td>\n",
       "      <td>IT</td>\n",
       "      <td>Manufacturing</td>\n",
       "      <td>Male</td>\n",
       "      <td>Asian</td>\n",
       "      <td>59</td>\n",
       "      <td>99975</td>\n",
       "      <td>0.00</td>\n",
       "      <td>China</td>\n",
       "    </tr>\n",
       "    <tr>\n",
       "      <th>2</th>\n",
       "      <td>Director</td>\n",
       "      <td>Finance</td>\n",
       "      <td>Speciality Products</td>\n",
       "      <td>Female</td>\n",
       "      <td>Caucasian</td>\n",
       "      <td>50</td>\n",
       "      <td>163099</td>\n",
       "      <td>0.20</td>\n",
       "      <td>United States</td>\n",
       "    </tr>\n",
       "    <tr>\n",
       "      <th>3</th>\n",
       "      <td>Computer Systems Manager</td>\n",
       "      <td>IT</td>\n",
       "      <td>Manufacturing</td>\n",
       "      <td>Female</td>\n",
       "      <td>Caucasian</td>\n",
       "      <td>26</td>\n",
       "      <td>84913</td>\n",
       "      <td>0.07</td>\n",
       "      <td>United States</td>\n",
       "    </tr>\n",
       "    <tr>\n",
       "      <th>4</th>\n",
       "      <td>Sr. Analyst</td>\n",
       "      <td>Finance</td>\n",
       "      <td>Manufacturing</td>\n",
       "      <td>Male</td>\n",
       "      <td>Asian</td>\n",
       "      <td>55</td>\n",
       "      <td>95409</td>\n",
       "      <td>0.00</td>\n",
       "      <td>United States</td>\n",
       "    </tr>\n",
       "  </tbody>\n",
       "</table>\n",
       "</div>"
      ],
      "text/plain": [
       "                  Job Title Department           Business Unit  Gender  \\\n",
       "0                Sr. Manger         IT  Research & Development  Female   \n",
       "1       Technical Architect         IT           Manufacturing    Male   \n",
       "2                  Director    Finance     Speciality Products  Female   \n",
       "3  Computer Systems Manager         IT           Manufacturing  Female   \n",
       "4               Sr. Analyst    Finance           Manufacturing    Male   \n",
       "\n",
       "   Ethnicity  Age  Annual Salary  Bonus %        Country  \n",
       "0      Black   55         141604     0.15  United States  \n",
       "1      Asian   59          99975     0.00          China  \n",
       "2  Caucasian   50         163099     0.20  United States  \n",
       "3  Caucasian   26          84913     0.07  United States  \n",
       "4      Asian   55          95409     0.00  United States  "
      ]
     },
     "execution_count": 145,
     "metadata": {},
     "output_type": "execute_result"
    }
   ],
   "source": [
    "df_xlsx.head()"
   ]
  },
  {
   "cell_type": "code",
   "execution_count": 147,
   "id": "91d33f93-102f-4c71-878d-5afc528d1766",
   "metadata": {},
   "outputs": [
    {
     "data": {
      "text/html": [
       "<div>\n",
       "<style scoped>\n",
       "    .dataframe tbody tr th:only-of-type {\n",
       "        vertical-align: middle;\n",
       "    }\n",
       "\n",
       "    .dataframe tbody tr th {\n",
       "        vertical-align: top;\n",
       "    }\n",
       "\n",
       "    .dataframe thead th {\n",
       "        text-align: right;\n",
       "    }\n",
       "</style>\n",
       "<table border=\"1\" class=\"dataframe\">\n",
       "  <thead>\n",
       "    <tr style=\"text-align: right;\">\n",
       "      <th></th>\n",
       "      <th>Job Title</th>\n",
       "      <th>Department</th>\n",
       "      <th>Business Unit</th>\n",
       "      <th>Gender</th>\n",
       "      <th>Ethnicity</th>\n",
       "      <th>Age</th>\n",
       "      <th>Annual Salary</th>\n",
       "      <th>Bonus %</th>\n",
       "      <th>Country</th>\n",
       "    </tr>\n",
       "  </thead>\n",
       "  <tbody>\n",
       "    <tr>\n",
       "      <th>995</th>\n",
       "      <td>Sr. Analyst</td>\n",
       "      <td>Marketing</td>\n",
       "      <td>Speciality Products</td>\n",
       "      <td>Male</td>\n",
       "      <td>Caucasian</td>\n",
       "      <td>33</td>\n",
       "      <td>98427</td>\n",
       "      <td>0.00</td>\n",
       "      <td>United States</td>\n",
       "    </tr>\n",
       "    <tr>\n",
       "      <th>996</th>\n",
       "      <td>Analyst</td>\n",
       "      <td>Finance</td>\n",
       "      <td>Speciality Products</td>\n",
       "      <td>Female</td>\n",
       "      <td>Asian</td>\n",
       "      <td>44</td>\n",
       "      <td>47387</td>\n",
       "      <td>0.00</td>\n",
       "      <td>China</td>\n",
       "    </tr>\n",
       "    <tr>\n",
       "      <th>997</th>\n",
       "      <td>Director</td>\n",
       "      <td>Marketing</td>\n",
       "      <td>Speciality Products</td>\n",
       "      <td>Male</td>\n",
       "      <td>Asian</td>\n",
       "      <td>31</td>\n",
       "      <td>176710</td>\n",
       "      <td>0.15</td>\n",
       "      <td>United States</td>\n",
       "    </tr>\n",
       "    <tr>\n",
       "      <th>998</th>\n",
       "      <td>Sr. Analyst</td>\n",
       "      <td>Finance</td>\n",
       "      <td>Speciality Products</td>\n",
       "      <td>Female</td>\n",
       "      <td>Asian</td>\n",
       "      <td>33</td>\n",
       "      <td>95960</td>\n",
       "      <td>0.00</td>\n",
       "      <td>China</td>\n",
       "    </tr>\n",
       "    <tr>\n",
       "      <th>999</th>\n",
       "      <td>Vice President</td>\n",
       "      <td>Accounting</td>\n",
       "      <td>Corporate</td>\n",
       "      <td>Female</td>\n",
       "      <td>Asian</td>\n",
       "      <td>63</td>\n",
       "      <td>216195</td>\n",
       "      <td>0.31</td>\n",
       "      <td>United States</td>\n",
       "    </tr>\n",
       "  </tbody>\n",
       "</table>\n",
       "</div>"
      ],
      "text/plain": [
       "          Job Title  Department        Business Unit  Gender  Ethnicity  Age  \\\n",
       "995     Sr. Analyst   Marketing  Speciality Products    Male  Caucasian   33   \n",
       "996         Analyst     Finance  Speciality Products  Female      Asian   44   \n",
       "997        Director   Marketing  Speciality Products    Male      Asian   31   \n",
       "998     Sr. Analyst     Finance  Speciality Products  Female      Asian   33   \n",
       "999  Vice President  Accounting            Corporate  Female      Asian   63   \n",
       "\n",
       "     Annual Salary  Bonus %        Country  \n",
       "995          98427     0.00  United States  \n",
       "996          47387     0.00          China  \n",
       "997         176710     0.15  United States  \n",
       "998          95960     0.00          China  \n",
       "999         216195     0.31  United States  "
      ]
     },
     "execution_count": 147,
     "metadata": {},
     "output_type": "execute_result"
    }
   ],
   "source": [
    "df_xlsx.tail()"
   ]
  },
  {
   "cell_type": "code",
   "execution_count": 141,
   "id": "1a2e9cf7-ec60-48ba-9e55-e111647b439d",
   "metadata": {},
   "outputs": [
    {
     "data": {
      "text/html": [
       "<div>\n",
       "<style scoped>\n",
       "    .dataframe tbody tr th:only-of-type {\n",
       "        vertical-align: middle;\n",
       "    }\n",
       "\n",
       "    .dataframe tbody tr th {\n",
       "        vertical-align: top;\n",
       "    }\n",
       "\n",
       "    .dataframe thead th {\n",
       "        text-align: right;\n",
       "    }\n",
       "</style>\n",
       "<table border=\"1\" class=\"dataframe\">\n",
       "  <thead>\n",
       "    <tr style=\"text-align: right;\">\n",
       "      <th></th>\n",
       "      <th>Age</th>\n",
       "      <th>Annual Salary</th>\n",
       "      <th>Bonus %</th>\n",
       "    </tr>\n",
       "  </thead>\n",
       "  <tbody>\n",
       "    <tr>\n",
       "      <th>count</th>\n",
       "      <td>1000.000000</td>\n",
       "      <td>1000.000000</td>\n",
       "      <td>1000.000000</td>\n",
       "    </tr>\n",
       "    <tr>\n",
       "      <th>mean</th>\n",
       "      <td>44.382000</td>\n",
       "      <td>113217.365000</td>\n",
       "      <td>0.088660</td>\n",
       "    </tr>\n",
       "    <tr>\n",
       "      <th>std</th>\n",
       "      <td>11.246981</td>\n",
       "      <td>53545.985644</td>\n",
       "      <td>0.117856</td>\n",
       "    </tr>\n",
       "    <tr>\n",
       "      <th>min</th>\n",
       "      <td>25.000000</td>\n",
       "      <td>40063.000000</td>\n",
       "      <td>0.000000</td>\n",
       "    </tr>\n",
       "    <tr>\n",
       "      <th>25%</th>\n",
       "      <td>35.000000</td>\n",
       "      <td>71430.250000</td>\n",
       "      <td>0.000000</td>\n",
       "    </tr>\n",
       "    <tr>\n",
       "      <th>50%</th>\n",
       "      <td>45.000000</td>\n",
       "      <td>96557.000000</td>\n",
       "      <td>0.000000</td>\n",
       "    </tr>\n",
       "    <tr>\n",
       "      <th>75%</th>\n",
       "      <td>54.000000</td>\n",
       "      <td>150782.250000</td>\n",
       "      <td>0.150000</td>\n",
       "    </tr>\n",
       "    <tr>\n",
       "      <th>max</th>\n",
       "      <td>65.000000</td>\n",
       "      <td>258498.000000</td>\n",
       "      <td>0.400000</td>\n",
       "    </tr>\n",
       "  </tbody>\n",
       "</table>\n",
       "</div>"
      ],
      "text/plain": [
       "               Age  Annual Salary      Bonus %\n",
       "count  1000.000000    1000.000000  1000.000000\n",
       "mean     44.382000  113217.365000     0.088660\n",
       "std      11.246981   53545.985644     0.117856\n",
       "min      25.000000   40063.000000     0.000000\n",
       "25%      35.000000   71430.250000     0.000000\n",
       "50%      45.000000   96557.000000     0.000000\n",
       "75%      54.000000  150782.250000     0.150000\n",
       "max      65.000000  258498.000000     0.400000"
      ]
     },
     "execution_count": 141,
     "metadata": {},
     "output_type": "execute_result"
    }
   ],
   "source": [
    "df_xlsx.describe()"
   ]
  },
  {
   "cell_type": "code",
   "execution_count": 143,
   "id": "6b2b3e89-0850-4473-93c6-3c69a1fb8756",
   "metadata": {},
   "outputs": [
    {
     "data": {
      "text/plain": [
       "Job Title        0\n",
       "Department       0\n",
       "Business Unit    0\n",
       "Gender           0\n",
       "Ethnicity        0\n",
       "Age              0\n",
       "Annual Salary    0\n",
       "Bonus %          0\n",
       "Country          0\n",
       "dtype: int64"
      ]
     },
     "execution_count": 143,
     "metadata": {},
     "output_type": "execute_result"
    }
   ],
   "source": [
    "df_xlsx.isna().sum()"
   ]
  },
  {
   "cell_type": "code",
   "execution_count": 149,
   "id": "3feeaa4b-a671-4fd2-8f45-f746094a4e49",
   "metadata": {},
   "outputs": [
    {
     "data": {
      "text/plain": [
       "Job Title         33\n",
       "Department         7\n",
       "Business Unit      4\n",
       "Gender             2\n",
       "Ethnicity          4\n",
       "Age               41\n",
       "Annual Salary    996\n",
       "Bonus %           37\n",
       "Country            3\n",
       "dtype: int64"
      ]
     },
     "execution_count": 149,
     "metadata": {},
     "output_type": "execute_result"
    }
   ],
   "source": [
    "df_xlsx.nunique()"
   ]
  },
  {
   "cell_type": "code",
   "execution_count": 151,
   "id": "9a7678b5-4766-4233-b9b5-bbf175d522a1",
   "metadata": {},
   "outputs": [
    {
     "data": {
      "text/plain": [
       "array(['United States', 'China', 'Brazil'], dtype=object)"
      ]
     },
     "execution_count": 151,
     "metadata": {},
     "output_type": "execute_result"
    }
   ],
   "source": [
    "df_xlsx['Country'].unique()"
   ]
  },
  {
   "cell_type": "code",
   "execution_count": 182,
   "id": "046c7389-a33d-488a-ad12-e9df03ac306d",
   "metadata": {},
   "outputs": [
    {
     "data": {
      "text/plain": [
       "<Axes: >"
      ]
     },
     "execution_count": 182,
     "metadata": {},
     "output_type": "execute_result"
    },
    {
     "data": {
      "image/png": "[encoded data removed]",
      "text/plain": [
       "<Figure size 640x480 with 1 Axes>"
      ]
     },
     "metadata": {},
     "output_type": "display_data"
    }
   ],
   "source": [
    "df_xlsx['Annual Salary'].hist()"
   ]
  },
  {
   "cell_type": "code",
   "execution_count": 184,
   "id": "1323614f-61c0-4c94-958d-d8189ea42506",
   "metadata": {},
   "outputs": [
    {
     "data": {
      "text/plain": [
       "<Axes: xlabel='Department'>"
      ]
     },
     "execution_count": 184,
     "metadata": {},
     "output_type": "execute_result"
    },
    {
     "data": {
      "image/png": "[encoded data removed]",
      "text/plain": [
       "<Figure size 640x480 with 1 Axes>"
      ]
     },
     "metadata": {},
     "output_type": "display_data"
    }
   ],
   "source": [
    "df_xlsx['Department'].value_counts().plot(kind='bar')"
   ]
  },
  {
   "cell_type": "code",
   "execution_count": 186,
   "id": "36f93407-a0a3-4839-9c8b-a8ef94e9c558",
   "metadata": {},
   "outputs": [
    {
     "data": {
      "text/plain": [
       "<Axes: >"
      ]
     },
     "execution_count": 186,
     "metadata": {},
     "output_type": "execute_result"
    },
    {
     "data": {
      "image/png": "[encoded data removed]",
      "text/plain": [
       "<Figure size 640x480 with 1 Axes>"
      ]
     },
     "metadata": {},
     "output_type": "display_data"
    }
   ],
   "source": [
    "df_xlsx['Age'].hist()"
   ]
  },
  {
   "cell_type": "code",
   "execution_count": 192,
   "id": "bbb5f80f-757f-445f-88a8-83656df0ff3f",
   "metadata": {},
   "outputs": [
    {
     "data": {
      "text/plain": [
       "<Axes: >"
      ]
     },
     "execution_count": 192,
     "metadata": {},
     "output_type": "execute_result"
    },
    {
     "data": {
      "image/png": "[encoded data removed]",
      "text/plain": [
       "<Figure size 640x480 with 1 Axes>"
      ]
     },
     "metadata": {},
     "output_type": "display_data"
    }
   ],
   "source": [
    "df_xlsx['Bonus %'].hist()"
   ]
  },
  {
   "cell_type": "code",
   "execution_count": 194,
   "id": "2a2deab5-aefd-48e4-9d28-d1a54c55792a",
   "metadata": {},
   "outputs": [
    {
     "data": {
      "text/plain": [
       "<Axes: xlabel='Ethnicity'>"
      ]
     },
     "execution_count": 194,
     "metadata": {},
     "output_type": "execute_result"
    },
    {
     "data": {
      "image/png": "[encoded data removed]",
      "text/plain": [
       "<Figure size 640x480 with 1 Axes>"
      ]
     },
     "metadata": {},
     "output_type": "display_data"
    }
   ],
   "source": [
    "df_xlsx['Ethnicity'].value_counts().plot(kind='bar')"
   ]
  },
  {
   "cell_type": "code",
   "execution_count": 196,
   "id": "56d2911c-bba4-4bdb-8953-24542ed5d7ae",
   "metadata": {},
   "outputs": [
    {
     "data": {
      "text/plain": [
       "<Axes: xlabel='Job Title'>"
      ]
     },
     "execution_count": 196,
     "metadata": {},
     "output_type": "execute_result"
    },
    {
     "data": {
      "image/png": "[encoded data removed]",
      "text/plain": [
       "<Figure size 640x480 with 1 Axes>"
      ]
     },
     "metadata": {},
     "output_type": "display_data"
    }
   ],
   "source": [
    "df_xlsx['Job Title'].value_counts().plot(kind='bar')"
   ]
  },
  {
   "cell_type": "code",
   "execution_count": 198,
   "id": "aae1736f-2c86-405d-b734-8bcf5278f30c",
   "metadata": {},
   "outputs": [
    {
     "data": {
      "text/plain": [
       "<Axes: xlabel='Gender'>"
      ]
     },
     "execution_count": 198,
     "metadata": {},
     "output_type": "execute_result"
    },
    {
     "data": {
      "image/png": "[encoded data removed]",
      "text/plain": [
       "<Figure size 640x480 with 1 Axes>"
      ]
     },
     "metadata": {},
     "output_type": "display_data"
    }
   ],
   "source": [
    "df_xlsx['Gender'].value_counts().plot(kind='bar')"
   ]
  },
  {
   "cell_type": "code",
   "execution_count": 200,
   "id": "4286ea28-fc55-4db7-8646-d4cf3ac61d19",
   "metadata": {},
   "outputs": [
    {
     "data": {
      "text/plain": [
       "<Axes: xlabel='Country'>"
      ]
     },
     "execution_count": 200,
     "metadata": {},
     "output_type": "execute_result"
    },
    {
     "data": {
      "image/png": "[encoded data removed]",
      "text/plain": [
       "<Figure size 640x480 with 1 Axes>"
      ]
     },
     "metadata": {},
     "output_type": "display_data"
    }
   ],
   "source": [
    "df_xlsx['Country'].value_counts().plot(kind='bar')"
   ]
  },
  {
   "cell_type": "code",
   "execution_count": null,
   "id": "73af5f7f-2656-43d5-898f-ba3bf7fa8716",
   "metadata": {},
   "outputs": [],
   "source": []
  }
 ],
 "metadata": {
  "kernelspec": {
   "display_name": "Python 3 (ipykernel)",
   "language": "python",
   "name": "python3"
  },
  "language_info": {
   "codemirror_mode": {
    "name": "ipython",
    "version": 3
   },
   "file_extension": ".py",
   "mimetype": "text/x-python",
   "name": "python",
   "nbconvert_exporter": "python",
   "pygments_lexer": "ipython3",
   "version": "3.12.4"
  }
 },
 "nbformat": 4,
 "nbformat_minor": 5
}
